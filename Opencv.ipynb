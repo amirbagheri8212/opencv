{
	 "cells": [
	  {
	   "cell_type": "markdown",
	   "metadata": {},
	   "source": [
	    "#Handwriting Recognition\n",
	    "\n",
	    "###Author: Syed (Sadat) Nazrul\n",
	    "\n",
	    "# "
	   ]
},
{
	   "cell_type": "markdown",
	   "metadata": {},
	   "source": [
	    "####Import libraries and dataset from Scikit-Learn"
	   ]
	  },
	  {
	   "cell_type": "code",
	   "execution_count": 13,
	   "metadata": {
	    "collapsed": true
	   },
	   "outputs": [],
	   "source": [
	    "import matplotlib.pyplot as plt\n",
	    "%matplotlib inline\n",
	    "from sklearn.datasets import load_digits\n",
	    "\n",
	    "digits = load_digits()"
	   ]
	  }
